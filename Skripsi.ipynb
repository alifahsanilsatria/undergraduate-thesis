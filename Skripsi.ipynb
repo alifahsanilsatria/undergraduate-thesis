{
  "nbformat": 4,
  "nbformat_minor": 0,
  "metadata": {
    "colab": {
      "name": "Skripsi",
      "provenance": [],
      "collapsed_sections": []
    },
    "kernelspec": {
      "name": "python3",
      "display_name": "Python 3"
    }
  },
  "cells": [
    {
      "cell_type": "code",
      "metadata": {
        "id": "XVWdcX35vUdn",
        "colab_type": "code",
        "colab": {}
      },
      "source": [
        "import glob\n",
        "import re\n",
        "file_annotator1 = glob.glob('/content/drive/My Drive/Skripsi/Data/Annotator 1/*.anns')\n",
        "file_annotator2 = glob.glob('/content/drive/My Drive/Skripsi/Data/Annotator 2/*.anns')"
      ],
      "execution_count": 0,
      "outputs": []
    },
    {
      "cell_type": "code",
      "metadata": {
        "id": "6an3wZYkx5WC",
        "colab_type": "code",
        "colab": {}
      },
      "source": [
        "def raw_text(file):\n",
        "  raw = []\n",
        "  for fd in file:\n",
        "    f = open(fd, 'r')\n",
        "    raw.append(f.readlines())\n",
        "  return raw\n",
        "\n",
        "raw_annotator1 = raw_text(file_annotator1)\n",
        "raw_annotator2 = raw_text(file_annotator2)"
      ],
      "execution_count": 0,
      "outputs": []
    },
    {
      "cell_type": "code",
      "metadata": {
        "id": "jj2-OgGxuir1",
        "colab_type": "code",
        "colab": {}
      },
      "source": [
        "def separate_alnum(s, sentence):\n",
        "  prev = \"\"\n",
        "  for idx_c, c in enumerate(s):\n",
        "    if c.isalnum():\n",
        "      prev += c\n",
        "      if idx_c == len(s)-1:\n",
        "        sentence.append([prev, \"O\"])\n",
        "    else:\n",
        "      if prev != \"\":\n",
        "        sentence.append([prev, \"O\"])\n",
        "        prev = \"\"\n",
        "      sentence.append([c, \"O\"])\n",
        "\n",
        "def preprocess(raw):\n",
        "  preprocessed = []\n",
        "  for txt in raw:\n",
        "    sentence = []\n",
        "    count_sentence = 0\n",
        "    prev_token = []\n",
        "    prev_tag = \"\"\n",
        "    for token in txt:\n",
        "      curr_token = token.split()\n",
        "      if len(curr_token) > 1:\n",
        "        curr_word = curr_token[0]\n",
        "        curr_tag = curr_token[1]\n",
        "\n",
        "        if curr_tag == \"O\":\n",
        "          if prev_tag != \"\":\n",
        "            prev_token.append(prev_tag)\n",
        "            sentence.append(prev_token)\n",
        "            \n",
        "            prev_token = []\n",
        "            prev_tag = \"\"\n",
        "\n",
        "          separate_alnum(curr_word, sentence)\n",
        "            \n",
        "          if re.search(\"(\\.$)\", curr_word):\n",
        "            preprocessed.append(sentence)\n",
        "            sentence = []\n",
        "            count_sentence += 1\n",
        "\n",
        "        else:\n",
        "          prev_token.append(curr_word)\n",
        "          prev_tag = re.sub(\"[BMES]\\-\",\"\",curr_tag)\n",
        "\n",
        "      elif count_sentence == 0:\n",
        "        if prev_tag != \"\":\n",
        "          prev_token.append(prev_tag)\n",
        "          sentence.append(prev_token)\n",
        "          prev_token = []\n",
        "          prev_tag = \"\"\n",
        "        preprocessed.append(sentence)\n",
        "        sentence = []\n",
        "        count_sentence += 1\n",
        "  return preprocessed\n",
        "\n",
        "preprocessed_annotator1 = preprocess(raw_annotator1)\n",
        "preprocessed_annotator2 = preprocess(raw_annotator2)"
      ],
      "execution_count": 0,
      "outputs": []
    },
    {
      "cell_type": "code",
      "metadata": {
        "id": "FGjF7YM_ILc_",
        "colab_type": "code",
        "colab": {}
      },
      "source": [
        "def save_preprocessed(directory, preprocessed):\n",
        "  f = open(directory, \"w\")\n",
        "  for sentence in preprocessed:\n",
        "    for words in sentence:\n",
        "      f.write(\" \".join(words) + \"\\n\")\n",
        "    f.write(\"\\n\")\n",
        "  f.close()\n",
        "\n",
        "dir_annotator1 = \"/content/drive/My Drive/Skripsi/Data/Annotator 1/preprocessed_annotator1.txt\"\n",
        "save_preprocessed(dir_annotator1, preprocessed_annotator1)\n",
        "\n",
        "dir_annotator2 = \"/content/drive/My Drive/Skripsi/Data/Annotator 2/preprocessed_annotator2.txt\"\n",
        "save_preprocessed(dir_annotator2, preprocessed_annotator2)"
      ],
      "execution_count": 0,
      "outputs": []
    },
    {
      "cell_type": "code",
      "metadata": {
        "id": "0u8wX9nf8Mv5",
        "colab_type": "code",
        "colab": {}
      },
      "source": [
        ""
      ],
      "execution_count": 0,
      "outputs": []
    }
  ]
}